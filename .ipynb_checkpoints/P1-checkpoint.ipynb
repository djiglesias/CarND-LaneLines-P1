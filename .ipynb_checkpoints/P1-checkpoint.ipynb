{
 "cells": [
  {
   "cell_type": "markdown",
   "metadata": {},
   "source": [
    "# Self-Driving Car Engineer Nanodegree"
   ]
  },
  {
   "cell_type": "code",
   "execution_count": 1,
   "metadata": {},
   "outputs": [],
   "source": [
    "from moviepy.editor import VideoFileClip\n",
    "from IPython.display import HTML\n",
    "import cv2\n",
    "import math\n",
    "import matplotlib.pyplot as plt\n",
    "import matplotlib.image as mpimg\n",
    "import numpy as np\n",
    "import os\n",
    "\n",
    "%matplotlib inline"
   ]
  },
  {
   "cell_type": "code",
   "execution_count": 6,
   "metadata": {},
   "outputs": [],
   "source": [
    "def grayscale(img):\n",
    "    return cv2.cvtColor(img, cv2.COLOR_BGR2GRAY)\n",
    "    \n",
    "def canny(img, low_threshold, high_threshold):\n",
    "    return cv2.Canny(img, low_threshold, high_threshold)\n",
    "\n",
    "def gaussian_blur(img, kernel_size):\n",
    "    return cv2.GaussianBlur(img, (kernel_size, kernel_size), 0)\n",
    "\n",
    "def region_of_interest(img, vertices):\n",
    "    #defining a blank mask to start with\n",
    "    mask = np.zeros_like(img)   \n",
    "    \n",
    "    #defining a 3 channel or 1 channel color to fill the mask with depending on the input image\n",
    "    if len(img.shape) > 2:\n",
    "        channel_count = img.shape[2]  # i.e. 3 or 4 depending on your image\n",
    "        ignore_mask_color = (255,) * channel_count\n",
    "    else:\n",
    "        ignore_mask_color = 255\n",
    "        \n",
    "    #filling pixels inside the polygon defined by \"vertices\" with the fill color    \n",
    "    cv2.fillPoly(mask, vertices, ignore_mask_color)\n",
    "    \n",
    "    #returning the image only where mask pixels are nonzero\n",
    "    masked_image = cv2.bitwise_and(img, mask)\n",
    "    return masked_image\n",
    "\n",
    "\n",
    "def draw_lines(img, lines, color=[255, 0, 0], thickness=6):\n",
    "    # Record top of lane lines.\n",
    "    y_min,y_max = int(img.shape[0]*0.6),img.shape[0]\n",
    "    l_m,l_b = [],[]\n",
    "    r_m,r_b = [],[]\n",
    "          \n",
    "    # Iterate through lane lines.\n",
    "    for line in lines:\n",
    "        for x1,y1,x2,y2 in line:\n",
    "            # Calculate slope and y-intercept.\n",
    "            m = (y2-y1)/(x2-x1)\n",
    "            b = ((y1 - m*x1) + (y2 - m*x2))/2.\n",
    "            \n",
    "            # Identify left versus right.            \n",
    "            if (m > 0.4 and abs(m) < 999 ):\n",
    "                l_m.append(m)\n",
    "                l_b.append(b)\n",
    "            elif (m < -0.4 and abs(m) < 999):\n",
    "                r_m.append(m)\n",
    "                r_b.append(b)\n",
    "    \n",
    "    # Build left line.\n",
    "    ave_l_m = sum(l_m)/len(l_m)\n",
    "    ave_l_b = sum(l_b)/len(l_b)\n",
    "    l_x1,l_y1 = int((y_min - ave_l_b) / ave_l_m), y_min\n",
    "    l_x2,l_y2 = int((y_max - ave_l_b) / ave_l_m), y_max\n",
    "    \n",
    "    # Build right line.\n",
    "    ave_r_m = sum(r_m)/len(r_m)\n",
    "    ave_r_b = sum(r_b)/len(r_b)\n",
    "    r_x1,r_y1 = int((y_min - ave_r_b) / ave_r_m), y_min\n",
    "    r_x2,r_y2 = int((y_max - ave_r_b) / ave_r_m), y_max\n",
    "    \n",
    "    # Build left & right line.\n",
    "    cv2.line(img, (l_x1, l_y1), (l_x2, l_y2), color, thickness)\n",
    "    cv2.line(img, (r_x1, r_y1), (r_x2, r_y2), color, thickness)\n",
    "            \n",
    "            \n",
    "def hough_lines(img, rho, theta, threshold, min_line_len, max_line_gap):\n",
    "    lines = cv2.HoughLinesP(img, rho, theta, threshold, np.array([]), minLineLength=min_line_len, maxLineGap=max_line_gap)\n",
    "    line_img = np.zeros((img.shape[0], img.shape[1], 3), dtype=np.uint8)\n",
    "    draw_lines(line_img, lines)\n",
    "    return line_img\n",
    "\n",
    "def weighted_img(img, initial_img, α=0.8, β=1, λ=0.):\n",
    "    return cv2.addWeighted(initial_img, α, img, β, λ)"
   ]
  },
  {
   "cell_type": "markdown",
   "metadata": {},
   "source": [
    "## Build a Lane Finding Pipeline\n",
    "\n"
   ]
  },
  {
   "cell_type": "code",
   "execution_count": 7,
   "metadata": {},
   "outputs": [],
   "source": [
    "def detect_lanes(img):\n",
    "    # Variables for lane detection.\n",
    "    low_threshold,high_threshold = 100,200\n",
    "    kernel_size  = 3\n",
    "    rho,theta    = 1,np.pi/180\n",
    "    threshold    = 10\n",
    "    min_line_len = 20\n",
    "    max_line_gap = 10  \n",
    "\n",
    "    # Process image to separate lane lines.\n",
    "    image, image_raw = np.copy(img), np.copy(img)\n",
    "    image = grayscale(gaussian_blur(image, kernel_size))\n",
    "    image = canny(image, low_threshold, high_threshold)\n",
    "\n",
    "    # Define region of interest.\n",
    "    xsize,ysize = image.shape[1],image.shape[0]\n",
    "    _left,_right,_height = 0.04,0.96,0.62\n",
    "    centre_l,centre_r = 0.46,0.54\n",
    "    vertices = np.array([[(xsize*_left,ysize),            \\\n",
    "                          (xsize*centre_l,ysize*_height), \\\n",
    "                          (xsize*centre_r,ysize*_height), \\\n",
    "                          (xsize*_right,ysize)]],         \\\n",
    "                        dtype=np.int32)\n",
    "    image = region_of_interest(image, vertices)\n",
    "\n",
    "    # Draw lanes lines on original image.\n",
    "    image = hough_lines(image, rho, theta, threshold, min_line_len, max_line_gap)\n",
    "    image = weighted_img(image, image_raw)\n",
    "    image = cv2.cvtColor(image, cv2.COLOR_BGR2RGB)\n",
    "    \n",
    "    return image"
   ]
  },
  {
   "cell_type": "code",
   "execution_count": 8,
   "metadata": {},
   "outputs": [],
   "source": [
    "def process_image(img):\n",
    "    \n",
    "    try:\n",
    "        image = detect_lanes(img)\n",
    "        image = cv2.cvtColor(image, cv2.COLOR_BGR2RGB)\n",
    "    except:\n",
    "        image = img\n",
    "        print('>> Failed to find lines in frame.')\n",
    "    \n",
    "    return image"
   ]
  },
  {
   "cell_type": "code",
   "execution_count": 10,
   "metadata": {},
   "outputs": [],
   "source": [
    "# Due diligence on directory structure.\n",
    "directory = 'test_images_output'\n",
    "if not os.path.exists(directory):\n",
    "    os.makedirs(directory)\n",
    "\n",
    "# Traverse list of images.\n",
    "images = os.listdir('test_images/')\n",
    "for img in images:\n",
    "    image = detect_lanes(mpimg.imread('test_images/' + img))\n",
    "    filename = directory + '/' + img\n",
    "    cv2.imwrite(filename, image) "
   ]
  },
  {
   "cell_type": "code",
   "execution_count": 11,
   "metadata": {
    "scrolled": true
   },
   "outputs": [
    {
     "name": "stdout",
     "output_type": "stream",
     "text": [
      "[MoviePy] >>>> Building video test_videos_output/solidWhiteRight.mp4\n",
      "[MoviePy] Writing video test_videos_output/solidWhiteRight.mp4\n"
     ]
    },
    {
     "name": "stderr",
     "output_type": "stream",
     "text": [
      "100%|█████████▉| 221/222 [00:04<00:00, 54.32it/s]\n"
     ]
    },
    {
     "name": "stdout",
     "output_type": "stream",
     "text": [
      "[MoviePy] Done.\n",
      "[MoviePy] >>>> Video ready: test_videos_output/solidWhiteRight.mp4 \n",
      "\n",
      "CPU times: user 5.35 s, sys: 360 ms, total: 5.71 s\n",
      "Wall time: 4.48 s\n",
      "[MoviePy] >>>> Building video test_videos_output/solidYellowLeft.mp4\n",
      "[MoviePy] Writing video test_videos_output/solidYellowLeft.mp4\n"
     ]
    },
    {
     "name": "stderr",
     "output_type": "stream",
     "text": [
      "100%|█████████▉| 681/682 [00:12<00:00, 55.04it/s]\n"
     ]
    },
    {
     "name": "stdout",
     "output_type": "stream",
     "text": [
      "[MoviePy] Done.\n",
      "[MoviePy] >>>> Video ready: test_videos_output/solidYellowLeft.mp4 \n",
      "\n",
      "CPU times: user 16.5 s, sys: 320 ms, total: 16.8 s\n",
      "Wall time: 12.8 s\n"
     ]
    }
   ],
   "source": [
    "# Due diligence on directory structure.\n",
    "directory = 'test_videos_output'\n",
    "if not os.path.exists(directory):\n",
    "    os.makedirs(directory)    \n",
    "\n",
    "# Process video 1.\n",
    "white_output = 'test_videos_output/solidWhiteRight.mp4'\n",
    "clip1 = VideoFileClip(\"test_videos/solidWhiteRight.mp4\")\n",
    "white_clip = clip1.fl_image(process_image)\n",
    "%time white_clip.write_videofile(white_output, audio=False)\n",
    "\n",
    "# Process video 2.\n",
    "yellow_output = 'test_videos_output/solidYellowLeft.mp4'\n",
    "clip2 = VideoFileClip('test_videos/solidYellowLeft.mp4')\n",
    "yellow_clip = clip2.fl_image(process_image)\n",
    "%time yellow_clip.write_videofile(yellow_output, audio=False)    "
   ]
  },
  {
   "cell_type": "markdown",
   "metadata": {
    "collapsed": true
   },
   "source": [
    "## Optional Challenge\n",
    "\n",
    "Try your lane finding pipeline on the video below.  Does it still work?  Can you figure out a way to make it more robust?  If you're up for the challenge, modify your pipeline so it works with this video and submit it along with the rest of your project!"
   ]
  },
  {
   "cell_type": "code",
   "execution_count": 13,
   "metadata": {},
   "outputs": [
    {
     "name": "stdout",
     "output_type": "stream",
     "text": [
      "[MoviePy] >>>> Building video test_videos_output/challenge.mp4\n",
      "[MoviePy] Writing video test_videos_output/challenge.mp4\n"
     ]
    },
    {
     "name": "stderr",
     "output_type": "stream",
     "text": [
      " 44%|████▍     | 110/251 [00:03<00:04, 31.47it/s]"
     ]
    },
    {
     "name": "stdout",
     "output_type": "stream",
     "text": [
      ">> Failed to find lines in frame.\n",
      ">> Failed to find lines in frame.\n",
      ">> Failed to find lines in frame.\n",
      ">> Failed to find lines in frame.\n"
     ]
    },
    {
     "name": "stderr",
     "output_type": "stream",
     "text": [
      " 47%|████▋     | 118/251 [00:03<00:04, 30.24it/s]"
     ]
    },
    {
     "name": "stdout",
     "output_type": "stream",
     "text": [
      ">> Failed to find lines in frame.\n",
      ">> Failed to find lines in frame.\n",
      ">> Failed to find lines in frame.\n",
      ">> Failed to find lines in frame.\n",
      ">> Failed to find lines in frame.\n",
      ">> Failed to find lines in frame.\n"
     ]
    },
    {
     "name": "stderr",
     "output_type": "stream",
     "text": [
      " 50%|█████     | 126/251 [00:03<00:04, 30.94it/s]"
     ]
    },
    {
     "name": "stdout",
     "output_type": "stream",
     "text": [
      ">> Failed to find lines in frame.\n",
      ">> Failed to find lines in frame.\n",
      ">> Failed to find lines in frame.\n",
      ">> Failed to find lines in frame.\n",
      ">> Failed to find lines in frame.\n"
     ]
    },
    {
     "name": "stderr",
     "output_type": "stream",
     "text": [
      " 53%|█████▎    | 134/251 [00:04<00:03, 29.73it/s]"
     ]
    },
    {
     "name": "stdout",
     "output_type": "stream",
     "text": [
      ">> Failed to find lines in frame.\n"
     ]
    },
    {
     "name": "stderr",
     "output_type": "stream",
     "text": [
      "100%|██████████| 251/251 [00:08<00:00, 29.81it/s]\n"
     ]
    },
    {
     "name": "stdout",
     "output_type": "stream",
     "text": [
      "[MoviePy] Done.\n",
      "[MoviePy] >>>> Video ready: test_videos_output/challenge.mp4 \n",
      "\n",
      "CPU times: user 8.57 s, sys: 480 ms, total: 9.05 s\n",
      "Wall time: 9.21 s\n"
     ]
    }
   ],
   "source": [
    "challenge_output = 'test_videos_output/challenge.mp4'\n",
    "clip3 = VideoFileClip('test_videos/challenge.mp4')\n",
    "challenge_clip = clip3.fl_image(process_image)\n",
    "%time challenge_clip.write_videofile(challenge_output, audio=False)"
   ]
  },
  {
   "cell_type": "code",
   "execution_count": 14,
   "metadata": {},
   "outputs": [
    {
     "data": {
      "text/html": [
       "\n",
       "<video width=\"960\" height=\"540\" controls>\n",
       "  <source src=\"test_videos_output/challenge.mp4\">\n",
       "</video>\n"
      ],
      "text/plain": [
       "<IPython.core.display.HTML object>"
      ]
     },
     "execution_count": 14,
     "metadata": {},
     "output_type": "execute_result"
    }
   ],
   "source": [
    "HTML(\"\"\"\n",
    "<video width=\"960\" height=\"540\" controls>\n",
    "  <source src=\"{0}\">\n",
    "</video>\n",
    "\"\"\".format(challenge_output))"
   ]
  },
  {
   "cell_type": "code",
   "execution_count": null,
   "metadata": {},
   "outputs": [],
   "source": []
  }
 ],
 "metadata": {
  "anaconda-cloud": {},
  "kernelspec": {
   "display_name": "Python 3",
   "language": "python",
   "name": "python3"
  },
  "language_info": {
   "codemirror_mode": {
    "name": "ipython",
    "version": 3
   },
   "file_extension": ".py",
   "mimetype": "text/x-python",
   "name": "python",
   "nbconvert_exporter": "python",
   "pygments_lexer": "ipython3",
   "version": "3.5.2"
  },
  "widgets": {
   "state": {},
   "version": "1.1.2"
  }
 },
 "nbformat": 4,
 "nbformat_minor": 1
}
